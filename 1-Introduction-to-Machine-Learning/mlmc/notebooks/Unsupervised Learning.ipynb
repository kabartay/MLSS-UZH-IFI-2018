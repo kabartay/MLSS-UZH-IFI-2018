{
 "cells": [
  {
   "cell_type": "markdown",
   "metadata": {},
   "source": [
    "# Clustering "
   ]
  },
  {
   "cell_type": "code",
   "execution_count": 1,
   "metadata": {},
   "outputs": [
    {
     "name": "stdout",
     "output_type": "stream",
     "text": [
      "The autoreload extension is already loaded. To reload it, use:\n",
      "  %reload_ext autoreload\n"
     ]
    }
   ],
   "source": [
    "# Code source: Sebastian Curi and Andreas Krause, based on Jaques Grobler (sklearn demos).\n",
    "# License: BSD 3 clause\n",
    "\n",
    "# We start importing some modules and running some magic commands\n",
    "% matplotlib inline\n",
    "% reload_ext autoreload\n",
    "% load_ext autoreload\n",
    "% autoreload 2\n",
    "\n",
    "# General math and plotting modules.\n",
    "import numpy as np\n",
    "import matplotlib as mpl \n",
    "import matplotlib.pyplot as plt\n",
    "\n",
    "# Project files.\n",
    "from util import gradient_descent, generate_polynomial_data\n",
    "import plot_helpers\n",
    "from regressors import LinearRegressor\n",
    "from regularizers import Regularizer, L2Regularizer\n",
    "\n",
    "# Widget and formatting modules\n",
    "import ipywidgets\n",
    "from ipywidgets import interact, interactive, interact_manual\n",
    "import pylab\n",
    "# If in your browser the figures are not nicely vizualized, change the following line. \n",
    "pylab.rcParams['figure.figsize'] = (10, 5)\n",
    "\n",
    "# Machine Learning library. \n",
    "from sklearn import cluster, datasets, mixture\n",
    "from sklearn.preprocessing import StandardScaler\n",
    "from sklearn.decomposition import PCA\n",
    "\n",
    "import warnings\n",
    "warnings.filterwarnings('ignore')\n",
    "# from sklearn import datasets, linear_model\n"
   ]
  },
  {
   "cell_type": "code",
   "execution_count": 2,
   "metadata": {},
   "outputs": [
    {
     "data": {
      "application/vnd.jupyter.widget-view+json": {
       "model_id": "0ae5a4f893274691b8212a7b36c4bde9",
       "version_major": 2,
       "version_minor": 0
      },
      "text/html": [
       "<p>Failed to display Jupyter Widget of type <code>interactive</code>.</p>\n",
       "<p>\n",
       "  If you're reading this message in the Jupyter Notebook or JupyterLab Notebook, it may mean\n",
       "  that the widgets JavaScript is still loading. If this message persists, it\n",
       "  likely means that the widgets JavaScript library is either not installed or\n",
       "  not enabled. See the <a href=\"https://ipywidgets.readthedocs.io/en/stable/user_install.html\">Jupyter\n",
       "  Widgets Documentation</a> for setup instructions.\n",
       "</p>\n",
       "<p>\n",
       "  If you're reading this message in another frontend (for example, a static\n",
       "  rendering on GitHub or <a href=\"https://nbviewer.jupyter.org/\">NBViewer</a>),\n",
       "  it may mean that your frontend doesn't currently support widgets.\n",
       "</p>\n"
      ],
      "text/plain": [
       "interactive(children=(IntSlider(value=1, description='n_clusters', max=10, min=1), Dropdown(description='dataset', options=('blobs', 'circles', 'moons', 'no_structure', 'anisotropic', 'varied variance', 'iris', 'MNIST PCA Reduced'), value='blobs'), Dropdown(description='algorithm', options=('kmeans++', 'kmeans', 'GMM full', 'GMM tied', 'GMM spherical', 'GMM diag', 'kmeans RBF kernel', 'kmeans nearest neighbor kernel'), value='kmeans++'), Output()), _dom_classes=('widget-interact',))"
      ]
     },
     "metadata": {},
     "output_type": "display_data"
    }
   ],
   "source": [
    "n_samples = 1500 \n",
    "\n",
    "def change_k(n_clusters, dataset, algorithm):\n",
    "    if dataset is 'blobs':\n",
    "        X, y = datasets.make_blobs(n_samples=n_samples, random_state=8)\n",
    "    elif dataset is 'circles':\n",
    "        X, Y = datasets.make_circles(n_samples=n_samples, factor=.5, noise=.05)\n",
    "    elif dataset is 'moons':\n",
    "        X, Y = datasets.make_moons(n_samples=n_samples, noise=.05)\n",
    "    elif dataset is 'no_structure':\n",
    "        X, Y = np.random.rand(n_samples, 2), None \n",
    "    elif dataset is 'anisotropic':\n",
    "        X, Y = datasets.make_blobs(n_samples=n_samples, random_state=170)\n",
    "        transformation = [[0.6, -0.6], [-0.4, 0.8]]\n",
    "        X = np.dot(X, transformation)\n",
    "    elif dataset == 'varied variance':\n",
    "        X, Y = datasets.make_blobs(n_samples=n_samples, cluster_std=[1.0, 2.5, 0.5], random_state=170)\n",
    "    elif dataset == 'iris':\n",
    "        X, y = datasets.load_iris().data, datasets.load_iris().target\n",
    "    elif dataset == 'MNIST PCA Reduced':\n",
    "        X, y = datasets.load_digits().data, datasets.load_digits().target\n",
    "        X = PCA(n_components=2).fit_transform(X)\n",
    "        \n",
    "    X = StandardScaler().fit_transform(X)\n",
    "    \n",
    "    if algorithm == 'kmeans++':\n",
    "        algorithm = cluster.KMeans(n_clusters=n_clusters, init='k-means++')\n",
    "    elif algorithm == 'kmeans':\n",
    "        algorithm = cluster.KMeans(n_clusters=n_clusters, init='random')\n",
    "    elif algorithm == 'GMM full':\n",
    "        # 'full' (each component has its own general covariance matrix)\n",
    "        algorithm = mixture.GaussianMixture(n_components=n_clusters, covariance_type='full')\n",
    "    elif algorithm == 'GMM tied':\n",
    "        # 'tied' (all components share the same general covariance matrix),\n",
    "        algorithm = mixture.GaussianMixture(n_components=n_clusters, covariance_type='tied')\n",
    "    elif algorithm == 'GMM spherical':\n",
    "        # 'spherical' (each component has its own single variance).\n",
    "        algorithm = mixture.GaussianMixture(n_components=n_clusters, covariance_type='spherical')\n",
    "    elif algorithm == 'GMM diag':\n",
    "        # 'diag' (each component has its own diagonal covariance matrix),\n",
    "        algorithm = mixture.GaussianMixture(n_components=n_clusters, covariance_type='diag')\n",
    "    elif algorithm == 'kmeans RBF kernel':\n",
    "        algorithm = cluster.SpectralClustering(n_clusters=n_clusters, affinity=\"rbf\")\n",
    "    elif algorithm == 'kmeans nearest neighbor kernel': \n",
    "        algorithm = cluster.SpectralClustering(n_clusters=n_clusters, affinity=\"nearest_neighbors\")\n",
    "            \n",
    "    algorithm.fit(X)\n",
    "    \n",
    "    if hasattr(algorithm, 'labels_'):\n",
    "        y_pred = algorithm.labels_.astype(np.int) \n",
    "    else:\n",
    "        y_pred = algorithm.predict(X)\n",
    "\n",
    "    colors = np.array(['#377eb8', '#ff7f00', '#4daf4a',\n",
    "                       '#f781bf', '#a65628', '#984ea3',\n",
    "                       '#999999', '#e41a1c', '#dede00', \n",
    "                       '#000000'][0:max(y_pred)+1])\n",
    "    \n",
    "    ax = plt.subplot(111)\n",
    "    plt.scatter(X[:, 0], X[:, 1], color=colors[y_pred])\n",
    "    \n",
    "    if hasattr(algorithm, 'covariances_'):\n",
    "        for n, color in enumerate(colors):\n",
    "            if algorithm.covariance_type == 'full':\n",
    "                covariances = algorithm.covariances_[n][:2, :2]\n",
    "            elif algorithm.covariance_type == 'tied':\n",
    "                covariances = algorithm.covariances_[:2, :2]\n",
    "            elif algorithm.covariance_type == 'diag':\n",
    "                covariances = np.diag(algorithm.covariances_[n][:2])\n",
    "            elif algorithm.covariance_type == 'spherical':\n",
    "                covariances = np.eye(algorithm.means_.shape[1]) * algorithm.covariances_[n]\n",
    "            v, w = np.linalg.eigh(covariances)\n",
    "            u = w[0] / np.linalg.norm(w[0])\n",
    "            angle = np.arctan2(u[1], u[0])\n",
    "            angle = 180 * angle / np.pi  # convert to degrees\n",
    "            v = 2. * np.sqrt(2.) * np.sqrt(v)\n",
    "            ell = mpl.patches.Ellipse(algorithm.means_[n, :2], v[0], v[1],\n",
    "                                      180 + angle, color=color)\n",
    "            ell.set_clip_box(ax.bbox)\n",
    "            ell.set_alpha(0.5)\n",
    "            ax.add_artist(ell)\n",
    "\n",
    "interact(change_k, \n",
    "        n_clusters=ipywidgets.IntSlider(value=1, min=1, max=10, step=1),\n",
    "        dataset=['blobs', 'circles', 'moons', 'no_structure', 'anisotropic', 'varied variance', 'iris', 'MNIST PCA Reduced'],\n",
    "        algorithm= ['kmeans++', 'kmeans', 'GMM full', 'GMM tied', 'GMM spherical', 'GMM diag', \n",
    "                    'kmeans RBF kernel', 'kmeans nearest neighbor kernel']);"
   ]
  },
  {
   "cell_type": "markdown",
   "metadata": {},
   "source": [
    "# Dimensionality reduction: PCA "
   ]
  },
  {
   "cell_type": "code",
   "execution_count": 3,
   "metadata": {},
   "outputs": [
    {
     "data": {
      "application/vnd.jupyter.widget-view+json": {
       "model_id": "a512f0b8670040f9a115dc2323f79d4c",
       "version_major": 2,
       "version_minor": 0
      },
      "text/html": [
       "<p>Failed to display Jupyter Widget of type <code>interactive</code>.</p>\n",
       "<p>\n",
       "  If you're reading this message in the Jupyter Notebook or JupyterLab Notebook, it may mean\n",
       "  that the widgets JavaScript is still loading. If this message persists, it\n",
       "  likely means that the widgets JavaScript library is either not installed or\n",
       "  not enabled. See the <a href=\"https://ipywidgets.readthedocs.io/en/stable/user_install.html\">Jupyter\n",
       "  Widgets Documentation</a> for setup instructions.\n",
       "</p>\n",
       "<p>\n",
       "  If you're reading this message in another frontend (for example, a static\n",
       "  rendering on GitHub or <a href=\"https://nbviewer.jupyter.org/\">NBViewer</a>),\n",
       "  it may mean that your frontend doesn't currently support widgets.\n",
       "</p>\n"
      ],
      "text/plain": [
       "interactive(children=(Dropdown(description='dataset', options=('blobs', 'circles', 'moons', 'no_structure', 'anisotropic', 'varied variance', 'iris'), value='blobs'), Output()), _dom_classes=('widget-interact',))"
      ]
     },
     "metadata": {},
     "output_type": "display_data"
    }
   ],
   "source": [
    "from sklearn.decomposition import PCA, KernelPCA\n",
    "from sklearn import datasets\n",
    "\n",
    "def demo_pca(dataset):\n",
    "    np.random.seed(0)\n",
    "    n_samples=400\n",
    "    if dataset is 'blobs':\n",
    "        X, y = datasets.make_blobs(n_samples=n_samples, random_state=4)\n",
    "    elif dataset is 'circles':\n",
    "        X, Y = datasets.make_circles(n_samples=n_samples, factor=.5, noise=.05)\n",
    "    elif dataset is 'moons':\n",
    "        X, Y = datasets.make_moons(n_samples=n_samples, noise=.05)\n",
    "    elif dataset is 'no_structure':\n",
    "        X, Y = np.random.rand(n_samples, 2), None \n",
    "    elif dataset is 'anisotropic':\n",
    "        X, Y = datasets.make_blobs(n_samples=n_samples, random_state=170)\n",
    "        transformation = [[0.6, -0.6], [-0.4, 0.8]]\n",
    "        X = np.dot(X, transformation)\n",
    "    elif dataset == 'varied variance':\n",
    "        X, Y = datasets.make_blobs(n_samples=n_samples, cluster_std=[1.0, 2.5, 0.5], random_state=170)\n",
    "    elif dataset == 'iris':\n",
    "        X, y = datasets.load_iris().data, datasets.load_iris().target\n",
    "    X = X - np.mean(X, axis=0)\n",
    "    pca = KernelPCA(n_components=1, \n",
    "                    kernel=\"linear\", \n",
    "                    fit_inverse_transform=True)\n",
    "    X_pca = pca.fit_transform(X)\n",
    "    X_back = pca.inverse_transform(X_pca)\n",
    "    \n",
    "    plt.figure()\n",
    "    plt.plot(X[:, 0], X[:, 1], 'bo', label='Original Data');\n",
    "    plt.plot(X_back[:, 0], X_back[:, 1], 'r*', label='PCA reduced Data');\n",
    "    plt.legend()\n",
    "\n",
    "    # print(\"Total explained variance: {}\".format(pca.explained_variance_ratio_[0]))\n",
    "\n",
    "interact(demo_pca, \n",
    "         dataset=['blobs', 'circles', 'moons', 'no_structure', 'anisotropic', 'varied variance', 'iris'],\n",
    "         # kernel=['linear', 'poly', 'rbf'],\n",
    "         # n_components=ipywidgets.IntSlider(value=1, min=1, max=2, step=1),\n",
    "         # gamma = ipywidgets.FloatSlider(value=0, min=-3, max=3, step=0.5)\n",
    "        );"
   ]
  },
  {
   "cell_type": "code",
   "execution_count": 4,
   "metadata": {},
   "outputs": [
    {
     "data": {
      "image/png": "[encoded data removed]",
      "text/plain": [
       "<matplotlib.figure.Figure at 0x11d0962b0>"
      ]
     },
     "metadata": {},
     "output_type": "display_data"
    },
    {
     "data": {
      "image/png": "[encoded data removed]",
      "text/plain": [
       "<matplotlib.figure.Figure at 0x11aa43828>"
      ]
     },
     "metadata": {},
     "output_type": "display_data"
    }
   ],
   "source": [
    "from sklearn.decomposition import PCA, KernelPCA\n",
    "from sklearn import datasets\n",
    "\n",
    "n_samples=400\n",
    "np.random.seed(0)\n",
    "dataset = 'circles'\n",
    "if dataset is 'blobs':\n",
    "    X, y = datasets.make_blobs(n_samples=n_samples, random_state=4)\n",
    "elif dataset is 'circles':\n",
    "    X, y = datasets.make_circles(n_samples=n_samples, factor=.3, noise=.05)\n",
    "elif dataset is 'moons':\n",
    "    X, y = datasets.make_moons(n_samples=n_samples, noise=.05)\n",
    "\n",
    "reds = y==0\n",
    "blues = y==1 \n",
    "\n",
    "\n",
    "# X = X - np.mean(X, axis=0) \n",
    "\n",
    "pca = PCA(n_components=1)\n",
    "pca = KernelPCA(n_components=2, kernel=\"rbf\", fit_inverse_transform=True, gamma=10)\n",
    "X_pca = pca.fit_transform(X)\n",
    "X_back = pca.inverse_transform(X_pca)\n",
    "\n",
    "# plt.scatter(X[:, 0], X[:, 1], color='b', label='Original data')\n",
    "plt.figure()\n",
    "plt.title(\"Original Data\")\n",
    "plt.scatter(X[reds, 0], X[reds, 1], color='r');\n",
    "plt.scatter(X[blues, 0], X[blues, 1], color='b');\n",
    "\n",
    "\n",
    "plt.figure()\n",
    "plt.title(\"PCA space of Data\")\n",
    "plt.scatter(X_pca[reds, 0], X_pca[reds, 1], color='r');\n",
    "plt.scatter(X_pca[blues, 0], X_pca[blues, 1], color='b');\n",
    "\n",
    "# plt.figure()\n",
    "# plt.scatter(X_back[reds, 0], X_back[reds, 1], color='r');\n",
    "# plt.scatter(X_back[blues, 0], X_back[blues, 1], color='b');\n",
    "# # \n"
   ]
  },
  {
   "cell_type": "markdown",
   "metadata": {
    "collapsed": true
   },
   "source": [
    "# Autoencoders"
   ]
  },
  {
   "cell_type": "code",
   "execution_count": 5,
   "metadata": {},
   "outputs": [
    {
     "name": "stderr",
     "output_type": "stream",
     "text": [
      "Using TensorFlow backend.\n"
     ]
    },
    {
     "name": "stdout",
     "output_type": "stream",
     "text": [
      "(60000, 784)\n",
      "(10000, 784)\n"
     ]
    }
   ],
   "source": [
    "import matplotlib.pyplot as plt\n",
    "from keras.datasets import mnist\n",
    "import numpy as np\n",
    "(x_train, _), (x_test, _) = mnist.load_data()\n",
    "\n",
    "x_train = x_train.astype('float32') / 255.\n",
    "x_test = x_test.astype('float32') / 255.\n",
    "x_train = x_train.reshape((len(x_train), np.prod(x_train.shape[1:])))\n",
    "x_test = x_test.reshape((len(x_test), np.prod(x_test.shape[1:])))\n",
    "print(x_train.shape)\n",
    "print(x_test.shape)\n"
   ]
  },
  {
   "cell_type": "code",
   "execution_count": 6,
   "metadata": {},
   "outputs": [
    {
     "name": "stdout",
     "output_type": "stream",
     "text": [
      "Train on 60000 samples, validate on 10000 samples\n",
      "Epoch 1/40\n",
      "60000/60000 [==============================] - 3s - loss: 0.3663 - val_loss: 0.2733\n",
      "Epoch 2/40\n",
      "60000/60000 [==============================] - 2s - loss: 0.2669 - val_loss: 0.2575\n",
      "Epoch 3/40\n",
      "60000/60000 [==============================] - 3s - loss: 0.2478 - val_loss: 0.2357\n",
      "Epoch 4/40\n",
      "60000/60000 [==============================] - 3s - loss: 0.2275 - val_loss: 0.2171\n",
      "Epoch 5/40\n",
      "60000/60000 [==============================] - 2s - loss: 0.2119 - val_loss: 0.2040\n",
      "Epoch 6/40\n",
      "60000/60000 [==============================] - 3s - loss: 0.2004 - val_loss: 0.1939\n",
      "Epoch 7/40\n",
      "60000/60000 [==============================] - 3s - loss: 0.1914 - val_loss: 0.1858\n",
      "Epoch 8/40\n",
      "60000/60000 [==============================] - 3s - loss: 0.1840 - val_loss: 0.1791\n",
      "Epoch 9/40\n",
      "60000/60000 [==============================] - 3s - loss: 0.1779 - val_loss: 0.1736\n",
      "Epoch 10/40\n",
      "60000/60000 [==============================] - 2s - loss: 0.1727 - val_loss: 0.1687\n",
      "Epoch 11/40\n",
      "60000/60000 [==============================] - 2s - loss: 0.1681 - val_loss: 0.1644\n",
      "Epoch 12/40\n",
      "60000/60000 [==============================] - 2s - loss: 0.1640 - val_loss: 0.1603\n",
      "Epoch 13/40\n",
      "60000/60000 [==============================] - 3s - loss: 0.1602 - val_loss: 0.1567\n",
      "Epoch 14/40\n",
      "60000/60000 [==============================] - 3s - loss: 0.1566 - val_loss: 0.1533\n",
      "Epoch 15/40\n",
      "60000/60000 [==============================] - 2s - loss: 0.1534 - val_loss: 0.1501\n",
      "Epoch 16/40\n",
      "60000/60000 [==============================] - 2s - loss: 0.1503 - val_loss: 0.1471\n",
      "Epoch 17/40\n",
      "60000/60000 [==============================] - 2s - loss: 0.1475 - val_loss: 0.1444\n",
      "Epoch 18/40\n",
      "60000/60000 [==============================] - 2s - loss: 0.1449 - val_loss: 0.1419\n",
      "Epoch 19/40\n",
      "60000/60000 [==============================] - 2s - loss: 0.1425 - val_loss: 0.1396\n",
      "Epoch 20/40\n",
      "60000/60000 [==============================] - 2s - loss: 0.1402 - val_loss: 0.1374\n",
      "Epoch 21/40\n",
      "60000/60000 [==============================] - 2s - loss: 0.1381 - val_loss: 0.1354\n",
      "Epoch 22/40\n",
      "60000/60000 [==============================] - 2s - loss: 0.1361 - val_loss: 0.1334\n",
      "Epoch 23/40\n",
      "60000/60000 [==============================] - 2s - loss: 0.1342 - val_loss: 0.1315\n",
      "Epoch 24/40\n",
      "60000/60000 [==============================] - 2s - loss: 0.1323 - val_loss: 0.1297\n",
      "Epoch 25/40\n",
      "60000/60000 [==============================] - 2s - loss: 0.1305 - val_loss: 0.1279\n",
      "Epoch 26/40\n",
      "60000/60000 [==============================] - 2s - loss: 0.1288 - val_loss: 0.1262\n",
      "Epoch 27/40\n",
      "60000/60000 [==============================] - 2s - loss: 0.1271 - val_loss: 0.1246\n",
      "Epoch 28/40\n",
      "60000/60000 [==============================] - 2s - loss: 0.1254 - val_loss: 0.1229\n",
      "Epoch 29/40\n",
      "60000/60000 [==============================] - 2s - loss: 0.1239 - val_loss: 0.1213\n",
      "Epoch 30/40\n",
      "60000/60000 [==============================] - 2s - loss: 0.1223 - val_loss: 0.1199\n",
      "Epoch 31/40\n",
      "60000/60000 [==============================] - 2s - loss: 0.1209 - val_loss: 0.1185\n",
      "Epoch 32/40\n",
      "60000/60000 [==============================] - 2s - loss: 0.1195 - val_loss: 0.1172\n",
      "Epoch 33/40\n",
      "60000/60000 [==============================] - 2s - loss: 0.1183 - val_loss: 0.1160\n",
      "Epoch 34/40\n",
      "60000/60000 [==============================] - 2s - loss: 0.1170 - val_loss: 0.1148\n",
      "Epoch 35/40\n",
      "60000/60000 [==============================] - 2s - loss: 0.1159 - val_loss: 0.1137\n",
      "Epoch 36/40\n",
      "60000/60000 [==============================] - 2s - loss: 0.1149 - val_loss: 0.1127\n",
      "Epoch 37/40\n",
      "60000/60000 [==============================] - 2s - loss: 0.1139 - val_loss: 0.1117\n",
      "Epoch 38/40\n",
      "60000/60000 [==============================] - 2s - loss: 0.1130 - val_loss: 0.1109\n",
      "Epoch 39/40\n",
      "60000/60000 [==============================] - 2s - loss: 0.1121 - val_loss: 0.1100\n",
      "Epoch 40/40\n",
      "60000/60000 [==============================] - 2s - loss: 0.1113 - val_loss: 0.1093\n"
     ]
    },
    {
     "data": {
      "image/png": "[encoded data removed]",
      "text/plain": [
       "<matplotlib.figure.Figure at 0x12f5490f0>"
      ]
     },
     "metadata": {},
     "output_type": "display_data"
    }
   ],
   "source": [
    "from keras.layers import Input, Dense\n",
    "from keras.models import Model\n",
    "from keras import regularizers\n",
    "\n",
    "# this is the size of our encoded representations\n",
    "encoding_dim = 32  # 32 floats -> compression of factor 24.5, assuming the input is 784 floats\n",
    "epochs = 40 \n",
    "batch_size = 256 \n",
    "# reg_param = 1e-4\n",
    "\n",
    "\n",
    "# this is our input placeholder\n",
    "input_img = Input(shape=(784,))\n",
    "# \"encoded\" is the encoded representation of the input\n",
    "encoded = Dense(encoding_dim, activation='relu')(input_img)\n",
    "# \"decoded\" is the lossy reconstruction of the input\n",
    "decoded = Dense(784, activation='sigmoid')(encoded)\n",
    "\n",
    "# this model maps an input to its reconstruction\n",
    "autoencoder = Model(input_img, decoded)\n",
    "\n",
    "autoencoder.compile(optimizer='adadelta', loss='binary_crossentropy')\n",
    "\n",
    "autoencoder.fit(x_train, x_train,\n",
    "                epochs=epochs ,\n",
    "                batch_size=batch_size,\n",
    "                shuffle=True,\n",
    "                validation_data=(x_test, x_test),\n",
    "                verbose=1)\n",
    "\n",
    "\n",
    "# # this model maps an input to its encoded representation\n",
    "encoder = Model(input_img, encoded)\n",
    "\n",
    "# # create a placeholder for an encoded (32-dimensional) input\n",
    "encoded_input = Input(shape=(encoding_dim,))\n",
    "# # retrieve the last layer of the autoencoder model\n",
    "decoder_layer = autoencoder.layers[-1]\n",
    "# # create the decoder model\n",
    "decoder = Model(encoded_input, decoder_layer(encoded_input), name='decoder')\n",
    "\n",
    "# encode and decode some digits\n",
    "# note that we take them from the *test* set\n",
    "encoded_imgs = encoder.predict(x_test)\n",
    "decoded_imgs = decoder.predict(encoded_imgs)\n",
    "\n",
    "\n",
    "n = 10  # how many digits we will display\n",
    "plt.figure(figsize=(20, 4))\n",
    "for i in range(n):\n",
    "    # display original\n",
    "    ax = plt.subplot(2, n, i + 1)\n",
    "    plt.imshow(x_test[i].reshape(28, 28))\n",
    "    plt.gray()\n",
    "    ax.get_xaxis().set_visible(False)\n",
    "    ax.get_yaxis().set_visible(False)\n",
    "\n",
    "    # display reconstruction\n",
    "    ax = plt.subplot(2, n, i + 1 + n)\n",
    "    plt.imshow(decoded_imgs[i].reshape(28, 28))\n",
    "    plt.gray()\n",
    "    ax.get_xaxis().set_visible(False)\n",
    "    ax.get_yaxis().set_visible(False)\n",
    "plt.show()"
   ]
  },
  {
   "cell_type": "code",
   "execution_count": 7,
   "metadata": {},
   "outputs": [
    {
     "data": {
      "image/png": "[encoded data removed]",
      "text/plain": [
       "<matplotlib.figure.Figure at 0x117f9b358>"
      ]
     },
     "metadata": {},
     "output_type": "display_data"
    }
   ],
   "source": [
    "n = 10  # how many digits we will display\n",
    "plt.figure(figsize=(20, 4))\n",
    "for i in range(n):\n",
    "    # display original\n",
    "    ax = plt.subplot(3, n, i + 1)\n",
    "    plt.imshow(x_test[i].reshape(28, 28))\n",
    "    plt.gray()\n",
    "    ax.get_xaxis().set_visible(False)\n",
    "    ax.get_yaxis().set_visible(False)\n",
    "\n",
    "    # display reconstruction\n",
    "    ax = plt.subplot(3, n, i + 1 + n)\n",
    "    plt.imshow(decoded_imgs[i].reshape(28, 28))\n",
    "    plt.gray()\n",
    "    ax.get_xaxis().set_visible(False)\n",
    "    ax.get_yaxis().set_visible(False)\n",
    "    \n",
    "    # display code\n",
    "    ax = plt.subplot(3, n, i + 1 + 2*n)\n",
    "    plt.imshow(encoded_imgs[i].reshape(-1, 4))\n",
    "    plt.gray()\n",
    "    ax.get_xaxis().set_visible(False)\n",
    "    ax.get_yaxis().set_visible(False)\n",
    "plt.show()\n"
   ]
  },
  {
   "cell_type": "code",
   "execution_count": 8,
   "metadata": {
    "collapsed": true
   },
   "outputs": [],
   "source": []
  }
 ],
 "metadata": {
  "anaconda-cloud": {},
  "kernelspec": {
   "display_name": "Python 3",
   "language": "python",
   "name": "python3"
  },
  "language_info": {
   "codemirror_mode": {
    "name": "ipython",
    "version": 3
   },
   "file_extension": ".py",
   "mimetype": "text/x-python",
   "name": "python",
   "nbconvert_exporter": "python",
   "pygments_lexer": "ipython3",
   "version": "3.5.4"
  }
 },
 "nbformat": 4,
 "nbformat_minor": 2
}
