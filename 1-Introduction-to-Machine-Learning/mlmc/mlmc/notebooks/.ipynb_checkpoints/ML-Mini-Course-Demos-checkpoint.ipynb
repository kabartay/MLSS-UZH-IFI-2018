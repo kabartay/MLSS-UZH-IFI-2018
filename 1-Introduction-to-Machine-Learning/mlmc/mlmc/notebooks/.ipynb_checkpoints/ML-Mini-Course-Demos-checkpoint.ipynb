{
 "cells": [
  {
   "cell_type": "markdown",
   "metadata": {},
   "source": [
    "# Demo 1: Linear Regression\n",
    "\n",
    "In this demo we will show:\n",
    "* Linear regression using the closed form solution and gradient descent. \n",
    "* Adaptive Learning rates.\n",
    "* Gradient descent to minimize other (non-convex) functions. \n",
    "* Linear regression on polynomials.\n",
    "* A real life example on Diabetes"
   ]
  },
  {
   "cell_type": "code",
   "execution_count": 1,
   "metadata": {},
   "outputs": [
    {
     "name": "stdout",
     "output_type": "stream",
     "text": [
      "The autoreload extension is already loaded. To reload it, use:\n",
      "  %reload_ext autoreload\n"
     ]
    }
   ],
   "source": [
    "# Code source: Sebastian Curi and Andreas Krause, based on Jaques Grobler (sklearn demos).\n",
    "# License: BSD 3 clause\n",
    "\n",
    "# We start importing some modules and running some magic commands\n",
    "% matplotlib inline\n",
    "% reload_ext autoreload\n",
    "% load_ext autoreload\n",
    "% autoreload 2\n",
    "\n",
    "# General math and plotting modules.\n",
    "import numpy as np\n",
    "import matplotlib.pyplot as plt\n",
    "\n",
    "# Project files.\n",
    "from util import gradient_descent, generate_polynomial_data\n",
    "import plot_helpers\n",
    "from regressors import LinearRegressor\n",
    "from regularizers import Regularizer, L2Regularizer\n",
    "\n",
    "# Widget and formatting modules\n",
    "import ipywidgets\n",
    "from ipywidgets import interact, interactive, interact_manual\n",
    "import pylab\n",
    "# If in your browser the figures are not nicely vizualized, change the following line. \n",
    "pylab.rcParams['figure.figsize'] = (10, 5)\n",
    "\n",
    "# Machine Learning library. \n",
    "\n",
    "import sklearn\n",
    "from sklearn import datasets, linear_model\n",
    "from sklearn.datasets import make_regression\n",
    "from sklearn.linear_model import Ridge\n",
    "from sklearn.preprocessing import scale, PolynomialFeatures\n",
    "from sklearn.pipeline import make_pipeline\n",
    "from sklearn.metrics import mean_squared_error, r2_score\n",
    "\n",
    "import warnings\n",
    "warnings.filterwarnings('ignore')\n",
    "# from sklearn import datasets, linear_model\n"
   ]
  },
  {
   "cell_type": "markdown",
   "metadata": {},
   "source": [
    "## Linear regression \n",
    "\n",
    "We will start by fitting by linear regression a set of data points of the type $D = \\left\\{(x, y)_i\\right\\}$, $i = 1, 2, \\ldots, n$.\n",
    "\n",
    "The objective of linear regression, is to find coefficents $\\hat{w}$ such that the residual between $\\hat{y} = \\hat{w}^\\top \\tilde{x}$, and $y$ is small. (Remember that $\\tilde{x} = [x, 1]$). From now on, $x$ will be considered the extended version unless stated otherwise, hence dropping the tilde notation. \n",
    "\n",
    "The goodness of fit in Linear regression is usually calculated as the sum of squared residuals, but other loss functions are also available. \n",
    "\n",
    "The risk function is defined as: $$ R(\\hat{w}) = \\mathbb{E}[\\frac{1}{2}(y-\\hat{w}^\\top x)^2)]$$\n",
    "where the expectation is taken over the data generating the distribution of points. As the whole data generating distribution is not known, the expectation is approximated by samples from the **training** set. \n",
    "\n",
    "The risk is approximated by the empirical risk as:\n",
    "$$ R(\\hat{w}) \\approx \\hat{R}(\\hat{w}) \\frac{1}{n} \\sum_{i=1}^n (y_i - \\hat{w}^\\top x_i)^2.$$ \n",
    "\n",
    "\n",
    "By grouping the data into the feature matrix $X$ and target matrix $Y$, such that:\n",
    "\n",
    "$$ X = \\left[ \\begin{array}{cc} x_1^\\top & 1\\\\ x_2^\\top & 1 \\\\ \\vdots & \\vdots \\\\ x_n^\\top & 1  \\end{array}\\right]$$\n",
    "$$ Y = \\left[ \\begin{array}{c} y_1\\\\ y_2 \\\\ \\vdots \\\\ y_n  \\end{array}\\right].$$ \n",
    "\n",
    "The empirical risk function can be expressed as:\n",
    "$$\\hat{R}(\\hat{w})= \\frac{1}{n}(X\\hat{w} - Y)^\\top (X\\hat{w} - Y) $$\n",
    "\n",
    "\n",
    "### Closed form solution\n",
    "\n",
    "The closed form solution to the regression problem is given by:\n",
    "$$\\hat{w} = (X^\\top X)^{-1} X^T y.$$ \n",
    "\n",
    "The closed form can be computed with a total number of operations given by $\\approx O(d^3+nd^2)$ .\n",
    "\n",
    "### Gradient Descent\n",
    "\n",
    "When the number of dimensions or examples grows, the closed form solution becomes expensive to compute. However, the parameters $\\hat{w}$ can be updated via a gradient descent rule: \n",
    "\n",
    "$$ \\hat{w}_{t+1} \\gets \\hat{w}_t - \\eta_t \\left.\\frac{\\partial \\hat{R} }{\\partial \\hat{w}} \\right|_{w=w_t},$$\n",
    "\n",
    "where $\\eta_t$ is a parameter of the algorithm, $k$ is the iteration index, and $\\frac{\\partial \\hat{R}}{\\partial \\hat{w}}$\n",
    "\n",
    "The gradients of $\\hat{R}$ with respect to the parameters are:\n",
    "\n",
    "$$ \\frac{\\partial \\hat{R} }{\\partial \\hat{w}} = \\frac{1}{} X^\\top(Xw - y) $$ \n",
    "In the *vanilla* gradient descent method, $\\eta(k)=\\eta_0$ is a constant. However other algorithms exists that modify this. We will discuss these later. \n",
    "\n",
    "The computational complexity of Gradient descent is $O(n_{\\text{iter}} \\cdot  n d)$. "
   ]
  },
  {
   "cell_type": "code",
   "execution_count": 2,
   "metadata": {},
   "outputs": [
    {
     "data": {
      "image/png": "[encoded data removed]",
      "text/plain": [
       "<matplotlib.figure.Figure at 0x10e26c518>"
      ]
     },
     "metadata": {},
     "output_type": "display_data"
    }
   ],
   "source": [
    "# Generate the data.\n",
    "\n",
    "num_points = 100  # Number of training points.\n",
    "noise = 0.6  # Noise Level (needed for data generation).\n",
    "\n",
    "a_true = 3  # Slope.\n",
    "b_true = 1  # Intercept. \n",
    "w_true = np.array([a_true, b_true])\n",
    "\n",
    "X, Y = generate_polynomial_data(num_points, noise, w_true)\n",
    "\n",
    "# Plot Data\n",
    "fig = plt.subplot(111);\n",
    "plot_opts = {'x_label': '$x$', 'y_label': '$y$', 'title': 'Generated Data', 'y_lim': [np.min(Y)-0.5, np.max(Y)+0.5]}\n",
    "plot_helpers.plot_data(X[:, 0], Y, fig=fig, options=plot_opts)"
   ]
  },
  {
   "cell_type": "markdown",
   "metadata": {},
   "source": [
    "## Closed Form Solution:\n",
    "\n",
    "The closed form solution to the regression problem is given by:\n",
    "$$\\hat{w} = (X^\\top X + \\lambda I_d)^{-1} X^T y.$$ \n",
    "\n",
    "Because there are only 2 parameters, the inverse of $(X^\\top X + \\lambda I_d)$ is fast to do $\\approx O(d^3)$. Hence, the closed form can be computed with a total number of operations given by $\\approx O(d^3+nd^2)$ ."
   ]
  },
  {
   "cell_type": "code",
   "execution_count": 3,
   "metadata": {},
   "outputs": [
    {
     "data": {
      "application/vnd.jupyter.widget-view+json": {
       "model_id": "364a35a287ab44c2a404aad3930d6027",
       "version_major": 2,
       "version_minor": 0
      },
      "text/html": [
       "<p>Failed to display Jupyter Widget of type <code>interactive</code>.</p>\n",
       "<p>\n",
       "  If you're reading this message in the Jupyter Notebook or JupyterLab Notebook, it may mean\n",
       "  that the widgets JavaScript is still loading. If this message persists, it\n",
       "  likely means that the widgets JavaScript library is either not installed or\n",
       "  not enabled. See the <a href=\"https://ipywidgets.readthedocs.io/en/stable/user_install.html\">Jupyter\n",
       "  Widgets Documentation</a> for setup instructions.\n",
       "</p>\n",
       "<p>\n",
       "  If you're reading this message in another frontend (for example, a static\n",
       "  rendering on GitHub or <a href=\"https://nbviewer.jupyter.org/\">NBViewer</a>),\n",
       "  it may mean that your frontend doesn't currently support widgets.\n",
       "</p>\n"
      ],
      "text/plain": [
       "interactive(children=(FloatSlider(value=-3.0, continuous_update=False, description='Regularization 10^:', max=3.0, min=-3.0, readout_format='.1f', step=0.5, style=SliderStyle(description_width='initial')), Output()), _dom_classes=('widget-interact',))"
      ]
     },
     "metadata": {},
     "output_type": "display_data"
    }
   ],
   "source": [
    "def change_reg_coefficient(reg):\n",
    "    dim = X.shape[1]\n",
    "    w_hat_closed_form = np.dot(np.linalg.pinv(np.dot(X.T, X) + np.power(10., reg) * np.eye(dim)), np.dot(X.T, Y))\n",
    "    print(\"w_hat = {}\".format(w_hat_closed_form))\n",
    "    # Plot closed form solution\n",
    "    fig = plt.subplot(111)\n",
    "    plot_opts = {'x_label': '$x$', 'y_label': '$y$', 'title': 'Closed Form Solution', 'legend': True,\n",
    "                 'y_lim': [np.min(Y)-0.5, np.max(Y)+0.5]}\n",
    "\n",
    "    plot_helpers.plot_data(X[:, 0], Y, fig=fig, options=plot_opts)\n",
    "    plot_helpers.plot_fit(X, w_hat_closed_form, fig=fig, options=plot_opts)\n",
    "\n",
    "interact(change_reg_coefficient,\n",
    "         reg=ipywidgets.FloatSlider(value=-3,\n",
    "                                    min=-3,\n",
    "                                    max=3,\n",
    "                                    step=0.5,\n",
    "                                    readout_format='.1f',\n",
    "                                    description='Regularization 10^:',\n",
    "                                    style={'description_width': 'initial'},\n",
    "                                    continuous_update=False));\n"
   ]
  },
  {
   "cell_type": "code",
   "execution_count": 4,
   "metadata": {},
   "outputs": [
    {
     "data": {
      "application/vnd.jupyter.widget-view+json": {
       "model_id": "9c0485c2c2064596b2fa3a7e042bb881",
       "version_major": 2,
       "version_minor": 0
      },
      "text/html": [
       "<p>Failed to display Jupyter Widget of type <code>interactive</code>.</p>\n",
       "<p>\n",
       "  If you're reading this message in the Jupyter Notebook or JupyterLab Notebook, it may mean\n",
       "  that the widgets JavaScript is still loading. If this message persists, it\n",
       "  likely means that the widgets JavaScript library is either not installed or\n",
       "  not enabled. See the <a href=\"https://ipywidgets.readthedocs.io/en/stable/user_install.html\">Jupyter\n",
       "  Widgets Documentation</a> for setup instructions.\n",
       "</p>\n",
       "<p>\n",
       "  If you're reading this message in another frontend (for example, a static\n",
       "  rendering on GitHub or <a href=\"https://nbviewer.jupyter.org/\">NBViewer</a>),\n",
       "  it may mean that your frontend doesn't currently support widgets.\n",
       "</p>\n"
      ],
      "text/plain": [
       "interactive(children=(FloatSlider(value=0.1, continuous_update=False, description='Learning rate:', max=2.0, min=0.1, readout_format='.1f', style=SliderStyle(description_width='initial')), IntSlider(value=10, continuous_update=False, description='Number of iterations:', max=20, min=5, style=SliderStyle(description_width='initial')), FloatSlider(value=-3.0, continuous_update=False, description='Regularization 10^:', max=1.0, min=-3.0, step=0.5, style=SliderStyle(description_width='initial')), Button(description='Run Interact', style=ButtonStyle()), Output()), _dom_classes=('widget-interact',))"
      ]
     },
     "metadata": {},
     "output_type": "display_data"
    }
   ],
   "source": [
    "# Gradient Descent solution. \n",
    "\n",
    "def change_learning_params(eta0, n_iter, reg=0):\n",
    "    regressor = LinearRegressor(X, Y)\n",
    "    regularizer = L2Regularizer(np.power(10., reg))\n",
    "    w0 = np.array([0., 0.])\n",
    "    opts = {'eta0': eta0, 'n_iter': n_iter, 'n_samples': X.shape[0]}\n",
    "    trajectory, indexes = gradient_descent(w0, regressor, regularizer, opts)\n",
    "\n",
    "    contourplot = plt.subplot(121)\n",
    "    dataplot = plt.subplot(122)\n",
    "    contour_opts = {'x_label': '$w_0$', 'y_label': '$w_1$', 'title': 'Weight trajectory', 'legend': False,\n",
    "                   }\n",
    "    data_opts = {'x_label': '$x$', 'y_label': '$y$', 'title': 'Regression trajectory', 'legend': False, \n",
    "                'y_lim': [np.min(Y)-0.5, np.max(Y)+0.5]}\n",
    "    plot_opts = {'contour_opts': contour_opts, 'data_opts': data_opts}\n",
    "\n",
    "    plot_helpers.linear_regression_progression(X, Y, trajectory, indexes, regressor.test_loss,\n",
    "                                               contourplot, dataplot, options=plot_opts)\n",
    "\n",
    "interact_manual(change_learning_params,\n",
    "                eta0=ipywidgets.FloatSlider(value=1e-1,\n",
    "                                            min=1e-1,\n",
    "                                            max=2,\n",
    "                                            step=1 * 1e-1,\n",
    "                                            readout_format='.1f',\n",
    "                                            description='Learning rate:',\n",
    "                                            style={'description_width': 'initial'},\n",
    "                                            continuous_update=False),\n",
    "                n_iter=ipywidgets.IntSlider(value=10,\n",
    "                                            min=5,\n",
    "                                            max=20,\n",
    "                                            step=1,\n",
    "                                            description='Number of iterations:',\n",
    "                                            style={'description_width': 'initial'},\n",
    "                                            continuous_update=False),\n",
    "                reg=ipywidgets.FloatSlider(value=-3,\n",
    "                                           min=-3,\n",
    "                                           max=1,\n",
    "                                           step=0.5,\n",
    "                                           readout_format='.2f',\n",
    "                                           description='Regularization 10^:',\n",
    "                                           style={'description_width': 'initial'},\n",
    "                                           continuous_update=False),\n",
    "                );\n"
   ]
  },
  {
   "cell_type": "markdown",
   "metadata": {},
   "source": [
    "## Linear regression on polynomials.\n",
    "\n",
    "Higher order features can be constructed from data $D = \\left\\{(x, y)_i\\right\\}$, $i = 1, 2, \\ldots, n$. For example cubic polynomial features can be created by forming the data and target matrices as:\n",
    "\n",
    "$$ X = \\left[ \\begin{array}{cccc} x_1^3 & x_1^2 & x_1 & 1\\\\ x_2^3 & x_2^2 & x_2 & 1 \\\\ \\vdots & \\vdots \\\\ x_n^3 & x_n^2 & x_n & 1  \\end{array}\\right]$$\n",
    "$$ Y = \\left[ \\begin{array}{c} y_1\\\\ y_2 \\\\ \\vdots \\\\ y_n  \\end{array}\\right].$$ \n",
    "\n",
    "The predictor is again of the form $\\hat{Y} = X\\hat{w}$. Even if the features in the data matrix $X$ are non-linear on the data, the estimator is linear on the parameters $\\hat{w}$. Hence, the empirical risk function is again:\n",
    "$$\\hat{R}(\\hat{w})= \\frac{1}{n}(X\\hat{w} - Y)^\\top (X\\hat{w} - Y),$$\n",
    "\n",
    "and linear regression problem is identical as in the previous example."
   ]
  },
  {
   "cell_type": "code",
   "execution_count": 17,
   "metadata": {},
   "outputs": [
    {
     "data": {
      "application/vnd.jupyter.widget-view+json": {
       "model_id": "847dc8dbe7994fde889fbc04b896576a",
       "version_major": 2,
       "version_minor": 0
      },
      "text/html": [
       "<p>Failed to display Jupyter Widget of type <code>interactive</code>.</p>\n",
       "<p>\n",
       "  If you're reading this message in the Jupyter Notebook or JupyterLab Notebook, it may mean\n",
       "  that the widgets JavaScript is still loading. If this message persists, it\n",
       "  likely means that the widgets JavaScript library is either not installed or\n",
       "  not enabled. See the <a href=\"https://ipywidgets.readthedocs.io/en/stable/user_install.html\">Jupyter\n",
       "  Widgets Documentation</a> for setup instructions.\n",
       "</p>\n",
       "<p>\n",
       "  If you're reading this message in another frontend (for example, a static\n",
       "  rendering on GitHub or <a href=\"https://nbviewer.jupyter.org/\">NBViewer</a>),\n",
       "  it may mean that your frontend doesn't currently support widgets.\n",
       "</p>\n"
      ],
      "text/plain": [
       "interactive(children=(FloatSlider(value=-3.0, continuous_update=False, description='Regularization 10^:', max=3.0, min=-3.0, readout_format='.1f', step=0.5, style=SliderStyle(description_width='initial')), Output()), _dom_classes=('widget-interact',))"
      ]
     },
     "metadata": {},
     "output_type": "display_data"
    }
   ],
   "source": [
    "# Generate the data and calculate the close form solution\n",
    "\n",
    "num_points = 100  # Number of training points.\n",
    "noise = 0.3  # Noise Level (needed for data generation).\n",
    "\n",
    "w_true = np.array([-.5, .5, 1, -1])\n",
    "X, Y = generate_polynomial_data(num_points, noise, w_true)\n",
    "\n",
    "def change_reg_coefficient(reg):\n",
    "    dim = X.shape[1]\n",
    "    w_hat_closed_form = np.dot(np.linalg.pinv(np.dot(X.T, X) + np.power(10., reg) * np.eye(dim)), np.dot(X.T, Y))\n",
    "    # \n",
    "\n",
    "    # Plot closed form solution\n",
    "    fig = plt.subplot(111)\n",
    "    plot_opts = {'x_label': '$x$', 'y_label': '$y$', 'title': 'Closed Form Solution', 'legend': True, \n",
    "                'y_lim': [np.min(Y)-0.5, np.max(Y)+0.5]}\n",
    "    plot_helpers.plot_data(X[:, -2], Y, fig=fig, options=plot_opts)\n",
    "    plot_helpers.plot_fit(X, w_hat_closed_form, fig=fig, options=plot_opts)\n",
    "    \n",
    "    print(\"w_hat = {}\".format(w_hat_closed_form))\n",
    "\n",
    "interact(change_reg_coefficient,\n",
    "         reg=ipywidgets.FloatSlider(value=-3,\n",
    "                                    min=-3,\n",
    "                                    max=3,\n",
    "                                    step=0.5,\n",
    "                                    readout_format='.1f',\n",
    "                                    description='Regularization 10^:',\n",
    "                                    style={'description_width': 'initial'},\n",
    "                                    continuous_update=False));\n"
   ]
  },
  {
   "cell_type": "markdown",
   "metadata": {},
   "source": [
    "## Choosing the Polynomial Order.\n",
    "\n",
    "If the order of the polynomial is not known, then how should we select it? **Answer**: Cross-validation!"
   ]
  },
  {
   "cell_type": "code",
   "execution_count": 15,
   "metadata": {},
   "outputs": [
    {
     "data": {
      "application/vnd.jupyter.widget-view+json": {
       "model_id": "f0785550c47a4d468d92d3a930654a95",
       "version_major": 2,
       "version_minor": 0
      },
      "text/html": [
       "<p>Failed to display Jupyter Widget of type <code>interactive</code>.</p>\n",
       "<p>\n",
       "  If you're reading this message in the Jupyter Notebook or JupyterLab Notebook, it may mean\n",
       "  that the widgets JavaScript is still loading. If this message persists, it\n",
       "  likely means that the widgets JavaScript library is either not installed or\n",
       "  not enabled. See the <a href=\"https://ipywidgets.readthedocs.io/en/stable/user_install.html\">Jupyter\n",
       "  Widgets Documentation</a> for setup instructions.\n",
       "</p>\n",
       "<p>\n",
       "  If you're reading this message in another frontend (for example, a static\n",
       "  rendering on GitHub or <a href=\"https://nbviewer.jupyter.org/\">NBViewer</a>),\n",
       "  it may mean that your frontend doesn't currently support widgets.\n",
       "</p>\n"
      ],
      "text/plain": [
       "interactive(children=(FloatSlider(value=1.0, continuous_update=False, description='Noise level:', max=3.0, readout_format='.1f', step=0.5, style=SliderStyle(description_width='initial')), Output()), _dom_classes=('widget-interact',))"
      ]
     },
     "metadata": {},
     "output_type": "display_data"
    }
   ],
   "source": [
    "def f(x):\n",
    "    return x * np.sin(x) \n",
    "\n",
    "x_plot = np.linspace(-1, 11, 100)\n",
    "f_plot = f(x_plot)\n",
    "X_plot = x_plot[:, np.newaxis]\n",
    "\n",
    "def resample(noise):\n",
    "    N = 20\n",
    "    folds = 5\n",
    "    n = int(N/folds)\n",
    "\n",
    "    xraw = np.linspace(0, 10, N)\n",
    "    # rng = np.random.RandomState(0)\n",
    "    np.random.shuffle(xraw)\n",
    "\n",
    "    #noise=1\n",
    "\n",
    "    x = dict()\n",
    "    y = dict()\n",
    "    for i in range(folds):\n",
    "        x[i] = xraw[n*i:n*(i+1)]\n",
    "        y[i] = f(x[i]) + np.random.normal(size=(n,)) * noise\n",
    "\n",
    "    \n",
    "    def change_degree(degree, reg, fold):\n",
    "        X = np.array(())\n",
    "        Y = np.array(())\n",
    "        for i in range(5):\n",
    "            if i == (fold-1):\n",
    "                Xval = x[i]\n",
    "                Yval = y[i]\n",
    "            else:\n",
    "                X = np.concatenate((X, x[i]))\n",
    "                Y = np.concatenate((Y, y[i]))\n",
    "\n",
    "\n",
    "        X = X[:, np.newaxis]\n",
    "        Xval = Xval[:, np.newaxis]\n",
    "\n",
    "        model = make_pipeline(PolynomialFeatures(degree), Ridge(alpha=np.power(10., reg)))\n",
    "\n",
    "        model.fit(X, Y)\n",
    "        \n",
    "        fig = plt.subplot(111)\n",
    "        lw = 2\n",
    "        plt.plot(x_plot, f_plot, color='cornflowerblue', linewidth=lw, label=\"Ground Truth\")\n",
    "        y_plot = model.predict(X_plot)\n",
    "        plt.plot(x_plot, y_plot, color='r', linewidth=lw, label=\"Degree %d\" % degree)\n",
    "        \n",
    "        opts = {'marker': 'b*', 'label': 'Training Points'}\n",
    "        plot_helpers.plot_data(X, Y, fig=fig, options=opts)\n",
    "        \n",
    "        plot_opts = {'x_label': '$x$', 'y_label': '$y$', 'y_lim': [np.min(f_plot)-3, np.max(f_plot)+3], \n",
    "                     'legend':True, 'legend_loc': 'lower left'}\n",
    "        opts = {'marker': 'mX', 'label': 'Validation Points'}\n",
    "        plot_opts.update(opts)\n",
    "        plot_helpers.plot_data(Xval, Yval, fig=fig, options=plot_opts)\n",
    "        \n",
    "        print(\"Train. Error: {:.2f}\".format(1/X.size * np.linalg.norm(model.predict(X) - Y, 2)))\n",
    "        print(\"Valid. Error: {:.2f}\".format(1/Xval.size * np.linalg.norm(model.predict(Xval) - Yval, 2)))\n",
    "        \n",
    "        \n",
    "    interact(change_degree,\n",
    "             degree=ipywidgets.IntSlider(value=1,\n",
    "                                         min=1,\n",
    "                                         max=15,\n",
    "                                         step=1,\n",
    "                                         description='Polynomial Degree:',\n",
    "                                         style={'description_width': 'initial'},\n",
    "                                         continuous_update=False),\n",
    "             reg=ipywidgets.FloatSlider(value=-3,\n",
    "                                               min=-3,\n",
    "                                               max=3,\n",
    "                                               step=0.5,\n",
    "                                               readout_format='.1f',\n",
    "                                               description='Regularization 10^:',\n",
    "                                               style={'description_width': 'initial'},\n",
    "                                               continuous_update=False),\n",
    "             fold=ipywidgets.ToggleButtons(value=1,\n",
    "                                        options=[1, 2, 3, 4, 5],\n",
    "                                         description='Validation fold:',\n",
    "                                         style={'description_width': 'initial'},\n",
    "                                         continuous_update=False),);\n",
    "\n",
    "interact(resample, noise=ipywidgets.FloatSlider(value=1,\n",
    "                                               min=0,\n",
    "                                               max=3,\n",
    "                                               step=0.5,\n",
    "                                               readout_format='.1f',\n",
    "                                               description='Noise level:',\n",
    "                                               style={'description_width': 'initial'},\n",
    "                                               continuous_update=False),);"
   ]
  },
  {
   "cell_type": "markdown",
   "metadata": {},
   "source": [
    "# Classification\n",
    "\n",
    "The goal of classification is to find a function that separates the data into positive/negative labels. In the case of a linear classifier, this reduces to finding a set of parameters $w^\\star$ such that, $$ \\begin{align} w^\\star &= \\arg \\min_w \\sum_{i=1}^{N} \\left[y_i\\neq \\text{sign} (w^\\top x_i) \\right] \\\\ &= \\arg \\min_w \\sum_{i=1}^{N} l_{0/1} (w; x_i, y_i) \\end{align}.$$ \n",
    "\n",
    "The problem with the $l_{0/1}$ loss, is that it is non-convex (and non-differentiable), hence other surrogate losses must be used to optimize the number of points. "
   ]
  },
  {
   "cell_type": "code",
   "execution_count": 22,
   "metadata": {},
   "outputs": [
    {
     "name": "stdout",
     "output_type": "stream",
     "text": [
      "The autoreload extension is already loaded. To reload it, use:\n",
      "  %reload_ext autoreload\n"
     ]
    }
   ],
   "source": [
    "# Code source: Sebastian Curi and Andreas Krause, based on Jaques Grobler (sklearn demos).\n",
    "# License: BSD 3 clause\n",
    "\n",
    "# We start importing some modules and running some magic commands\n",
    "% matplotlib inline\n",
    "% reload_ext autoreload\n",
    "% load_ext autoreload\n",
    "% autoreload 2\n",
    "\n",
    "# General math and plotting modules.\n",
    "import numpy as np\n",
    "import matplotlib.pyplot as plt\n",
    "\n",
    "# Project files.\n",
    "from util import gradient_descent, generate_linear_separable_data, generate_circular_separable_data\n",
    "import plot_helpers\n",
    "from classifiers import Perceptron, SVM, Logistic\n",
    "from regularizers import L1Regularizer, L2Regularizer\n",
    "\n",
    "# Widget and formatting modules\n",
    "import ipywidgets\n",
    "from ipywidgets import interact, interactive, interact_manual\n",
    "import pylab\n",
    "# If in your browser the figures are not nicely vizualized, change the following line. \n",
    "pylab.rcParams['figure.figsize'] = (10, 5)\n",
    "\n",
    "# Machine Learning library. \n",
    "import sklearn\n",
    "from sklearn import svm\n",
    "from sklearn.linear_model import SGDClassifier\n",
    "\n",
    "import warnings\n",
    "warnings.filterwarnings('ignore')\n",
    "# from sklearn import datasets, linear_model\n",
    "\n"
   ]
  },
  {
   "cell_type": "code",
   "execution_count": 23,
   "metadata": {},
   "outputs": [
    {
     "data": {
      "image/png": "[encoded data removed]",
      "text/plain": [
       "<matplotlib.figure.Figure at 0x11a097e10>"
      ]
     },
     "metadata": {},
     "output_type": "display_data"
    }
   ],
   "source": [
    "num_points = 100  # Number of points per class\n",
    "noise = 0.5  # Noise Level (needed for data generation).\n",
    "np.random.seed(42)\n",
    "X, Y = generate_linear_separable_data(num_points, noise=noise, dim=2)\n",
    "# X = X - np.mean(X)\n",
    "\n",
    "fig = plt.subplot(111)\n",
    "opt = {'marker': 'ro', 'label': '+', 'size': 8}\n",
    "plot_helpers.plot_data(X[np.where(Y == 1)[0], 0], X[np.where(Y == 1)[0], 1], fig=fig, options=opt)\n",
    "opt = {'marker': 'bs', 'label': '-', 'x_label': '$x$', 'y_label': '$y$', 'size': 8, 'legend': True}\n",
    "plot_helpers.plot_data(X[np.where(Y == -1)[0], 0], X[np.where(Y == -1)[0], 1], fig=fig, options=opt)"
   ]
  },
  {
   "cell_type": "code",
   "execution_count": 24,
   "metadata": {},
   "outputs": [
    {
     "data": {
      "image/png": "[encoded data removed]",
      "text/plain": [
       "<matplotlib.figure.Figure at 0x11a95ac18>"
      ]
     },
     "metadata": {},
     "output_type": "display_data"
    }
   ],
   "source": [
    "# Separate into train and test sets!\n",
    "np.random.seed(42)\n",
    "indexes = np.arange(0, 2*num_points, 1)\n",
    "np.random.shuffle(indexes)\n",
    "num_train = int(np.ceil(2*.05*num_points))\n",
    "\n",
    "X_train = X[indexes[:num_train]]\n",
    "Y_train = Y[indexes[:num_train]]\n",
    "\n",
    "X_test = X[indexes[num_train:]]\n",
    "Y_test = Y[indexes[num_train:]]\n",
    "\n",
    "fig = plt.subplot(111)\n",
    "\n",
    "opt = {'marker': 'ro', 'fillstyle': 'full', 'label': '+ Train', 'size': 8}\n",
    "plot_helpers.plot_data(X_train[np.where(Y_train == 1)[0], 0], X_train[np.where(Y_train == 1)[0], 1], fig=fig, options=opt)\n",
    "opt = {'marker': 'bs', 'fillstyle': 'full', 'label': '- Train', 'size': 8}\n",
    "plot_helpers.plot_data(X_train[np.where(Y_train == -1)[0], 0], X_train[np.where(Y_train == -1)[0], 1], fig=fig, options=opt)\n",
    "\n",
    "opt = {'marker': 'ro', 'fillstyle': 'none', 'label': '+ Test', 'size': 8}\n",
    "plot_helpers.plot_data(X_test[np.where(Y_test == 1)[0], 0], X_test[np.where(Y_test == 1)[0], 1], fig=fig, options=opt)\n",
    "opt = {'marker': 'bs', 'fillstyle': 'none', 'label': '- Test', 'size': 8, \n",
    "       'x_label': '$x$', 'y_label': '$y$', 'legend': True}\n",
    "plot_helpers.plot_data(X_test[np.where(Y_test == -1)[0], 0], X_test[np.where(Y_test == -1)[0], 1], fig=fig, options=opt)\n",
    "\n"
   ]
  },
  {
   "cell_type": "markdown",
   "metadata": {},
   "source": [
    "## The SVM Algorithm\n",
    "\n",
    "The svm loss is defined as: $$L(w; X, Y) =  \\sum_{i=1}^{N} L_{\\text{svm}} (w; x_i, y_i) =  \\sum_{i=1}^{N} \\max \\{ 0, 1-y_i w^\\top x_i \\}.$$\n",
    "\n",
    "The loss function is continuous, but not differentialbe at $y_i w^\\top x_i=0$. The subgradient, however, exists and hence (stochastic) gradient descent converges. The subgradient is:\n",
    "\n",
    "$$ \\partial L_{\\text{svm}}(w;x_i,y_i) = \\left\\{\\begin{array}{cc} 0 & \\text{if } 1-y_i w^\\top x_i < 0 \\\\ -y_i x_i & \\text{if } 1-y_i w^\\top x_i > 0 \\\\ \\left[0, -y_i x_i \\right] & \\text{if } 1-y_i w^\\top x_i = 0 \\end{array}  \\right. $$\n",
    "\n",
    "The difference with the perceptron loss is that the SVM loss includes a loss margin. "
   ]
  },
  {
   "cell_type": "code",
   "execution_count": 25,
   "metadata": {},
   "outputs": [
    {
     "data": {
      "application/vnd.jupyter.widget-view+json": {
       "model_id": "4f3ae4b6f4bc4956a60a013ecd783ac5",
       "version_major": 2,
       "version_minor": 0
      },
      "text/html": [
       "<p>Failed to display Jupyter Widget of type <code>interactive</code>.</p>\n",
       "<p>\n",
       "  If you're reading this message in the Jupyter Notebook or JupyterLab Notebook, it may mean\n",
       "  that the widgets JavaScript is still loading. If this message persists, it\n",
       "  likely means that the widgets JavaScript library is either not installed or\n",
       "  not enabled. See the <a href=\"https://ipywidgets.readthedocs.io/en/stable/user_install.html\">Jupyter\n",
       "  Widgets Documentation</a> for setup instructions.\n",
       "</p>\n",
       "<p>\n",
       "  If you're reading this message in another frontend (for example, a static\n",
       "  rendering on GitHub or <a href=\"https://nbviewer.jupyter.org/\">NBViewer</a>),\n",
       "  it may mean that your frontend doesn't currently support widgets.\n",
       "</p>\n"
      ],
      "text/plain": [
       "interactive(children=(FloatSlider(value=-3.0, continuous_update=False, description='Regularization 10^:', max=3.0, min=-3.0, readout_format='.1f', step=0.5, style=SliderStyle(description_width='initial')), FloatSlider(value=1.0, continuous_update=False, description='Learning rate:', max=2.0, min=0.1, readout_format='.1f', style=SliderStyle(description_width='initial')), IntSlider(value=50, continuous_update=False, description='Number of iterations:', min=5, style=SliderStyle(description_width='initial')), IntSlider(value=1, continuous_update=False, description='Batch Size:', max=10, min=1, style=SliderStyle(description_width='initial')), Button(description='Run Interact', style=ButtonStyle()), Output()), _dom_classes=('widget-interact',))"
      ]
     },
     "metadata": {},
     "output_type": "display_data"
    }
   ],
   "source": [
    "def change_learning_params(reg, eta0, n_iter, batch_size):\n",
    "    classifier = SVM(X_train, Y_train)\n",
    "    classifier.load_test_data(X_test, Y_test)\n",
    "    \n",
    "    regularizer = L2Regularizer(np.power(10., reg))\n",
    "    np.random.seed(42)\n",
    "    w0 = np.random.randn(3, )\n",
    "\n",
    "    opts = {'eta0': eta0,\n",
    "            'n_iter': n_iter,\n",
    "            'batch_size': batch_size,\n",
    "            'n_samples': X_train.shape[0],\n",
    "            'algorithm': 'SGD',\n",
    "            'learning_rate_scheduling': None\n",
    "            }\n",
    "\n",
    "    trajectory, indexes = gradient_descent(w0, classifier, regularizer, opts)\n",
    "    \n",
    "    contour_plot = plt.subplot(121)\n",
    "    error_plot = plt.subplot(122)\n",
    "    \n",
    "    opt = {'marker': 'ro', 'fillstyle': 'full', 'label': '+ Train', 'size': 8}\n",
    "    plot_helpers.plot_data(X_train[np.where(Y_train == 1)[0], 0], X_train[np.where(Y_train == 1)[0], 1], fig=contour_plot, options=opt)\n",
    "    opt = {'marker': 'bs', 'fillstyle': 'full', 'label': '- Train', 'size': 8}\n",
    "    plot_helpers.plot_data(X_train[np.where(Y_train == -1)[0], 0], X_train[np.where(Y_train == -1)[0], 1], fig=contour_plot, options=opt)\n",
    "\n",
    "    opt = {'marker': 'ro', 'fillstyle': 'none', 'label': '+ Test', 'size': 8}\n",
    "    plot_helpers.plot_data(X_test[np.where(Y_test == 1)[0], 0], X_test[np.where(Y_test == 1)[0], 1], fig=contour_plot, options=opt)\n",
    "    opt = {'marker': 'bs', 'fillstyle': 'none', 'label': '- Test', 'size': 8}\n",
    "    plot_helpers.plot_data(X_test[np.where(Y_test == -1)[0], 0], X_test[np.where(Y_test == -1)[0], 1], fig=contour_plot, options=opt)\n",
    "\n",
    "    contour_opts = {'n_points': 100, 'x_label': '$x$', 'y_label': '$y$', 'sgd_point': True, 'n_classes': 4}\n",
    "    error_opts = {'epoch': 5, 'x_label': '$t$', 'y_label': 'error'}\n",
    "    \n",
    "    opts = {'contour_opts': contour_opts, 'error_opts': error_opts}\n",
    "    plot_helpers.classification_progression(X, Y, trajectory, indexes, classifier, \n",
    "                                            contour_plot=contour_plot, error_plot=error_plot, \n",
    "                                            options=opts)\n",
    "\n",
    "interact_manual(change_learning_params,\n",
    "                reg=ipywidgets.FloatSlider(value=-3,\n",
    "                                    min=-3,\n",
    "                                    max=3,\n",
    "                                    step=0.5,\n",
    "                                    readout_format='.1f',\n",
    "                                    description='Regularization 10^:',\n",
    "                                    style={'description_width': 'initial'},\n",
    "                                    continuous_update=False), \n",
    "                eta0=ipywidgets.FloatSlider(value=1,\n",
    "                                            min=1e-1,\n",
    "                                            max=2,\n",
    "                                            step=1 * 1e-1,\n",
    "                                            readout_format='.1f',\n",
    "                                            description='Learning rate:',\n",
    "                                            style={'description_width': 'initial'},\n",
    "                                            continuous_update=False),\n",
    "                n_iter=ipywidgets.IntSlider(value=50,\n",
    "                                            min=5,\n",
    "                                            max=100,\n",
    "                                            step=1,\n",
    "                                            description='Number of iterations:',\n",
    "                                            style={'description_width': 'initial'},\n",
    "                                            continuous_update=False),\n",
    "                batch_size=ipywidgets.IntSlider(value=1,\n",
    "                                            min=1,\n",
    "                                            max=X_train.shape[0],\n",
    "                                            step=1,\n",
    "                                            description='Batch Size:',\n",
    "                                            style={'description_width': 'initial'},\n",
    "                                            continuous_update=False)\n",
    "               );"
   ]
  },
  {
   "cell_type": "markdown",
   "metadata": {},
   "source": [
    "## The Logistic Regression Algorithm\n",
    "\n",
    "The logistic loss is defined as: $$L(w; X, Y) = \\sum_{i=1}^{N} L_{\\sigma}(w; x_i, y_i) = \\sum_{i=1}^{N} \\log \\left( 1 + \\exp \\left(-y_i w^\\top x_i \\right) \\right) .$$\n",
    "\n",
    "The loss function is differentiable, hence the gradient is:\n",
    "\n",
    "$$ \\frac{\\partial L_{\\sigma}(w; x_i, y_i)}{\\partial w} = -\\frac{\\exp \\left(-y_i w^\\top x_i \\right)}{1+\\exp \\left(-y_i w^\\top x_i \\right)} y x_i$$"
   ]
  },
  {
   "cell_type": "code",
   "execution_count": 26,
   "metadata": {},
   "outputs": [
    {
     "data": {
      "application/vnd.jupyter.widget-view+json": {
       "model_id": "0a46cf4292ad443c946601bc795315d8",
       "version_major": 2,
       "version_minor": 0
      },
      "text/html": [
       "<p>Failed to display Jupyter Widget of type <code>interactive</code>.</p>\n",
       "<p>\n",
       "  If you're reading this message in the Jupyter Notebook or JupyterLab Notebook, it may mean\n",
       "  that the widgets JavaScript is still loading. If this message persists, it\n",
       "  likely means that the widgets JavaScript library is either not installed or\n",
       "  not enabled. See the <a href=\"https://ipywidgets.readthedocs.io/en/stable/user_install.html\">Jupyter\n",
       "  Widgets Documentation</a> for setup instructions.\n",
       "</p>\n",
       "<p>\n",
       "  If you're reading this message in another frontend (for example, a static\n",
       "  rendering on GitHub or <a href=\"https://nbviewer.jupyter.org/\">NBViewer</a>),\n",
       "  it may mean that your frontend doesn't currently support widgets.\n",
       "</p>\n"
      ],
      "text/plain": [
       "interactive(children=(FloatSlider(value=-3.0, continuous_update=False, description='Regularization 10^:', max=3.0, min=-3.0, readout_format='.1f', step=0.5, style=SliderStyle(description_width='initial')), FloatSlider(value=0.5, continuous_update=False, description='Learning rate:', max=2.0, min=0.1, readout_format='.1f', style=SliderStyle(description_width='initial')), IntSlider(value=50, continuous_update=False, description='Number of iterations:', max=50, min=5, style=SliderStyle(description_width='initial')), IntSlider(value=1, continuous_update=False, description='Batch Size:', max=10, min=1, style=SliderStyle(description_width='initial')), Button(description='Run Interact', style=ButtonStyle()), Output()), _dom_classes=('widget-interact',))"
      ]
     },
     "metadata": {},
     "output_type": "display_data"
    }
   ],
   "source": [
    "def change_learning_params(reg, eta0, n_iter, batch_size):\n",
    "    classifier = Logistic(X_train, Y_train)\n",
    "    classifier.load_test_data(X_test, Y_test)\n",
    "    \n",
    "    regularizer = L2Regularizer(np.power(10., reg))\n",
    "    np.random.seed(42)\n",
    "    w0 = np.random.randn(3, )\n",
    "\n",
    "    opts = {'eta0': eta0,\n",
    "            'n_iter': n_iter,\n",
    "            'batch_size': batch_size,\n",
    "            'n_samples': X_train.shape[0],\n",
    "            'algorithm': 'SGD',\n",
    "            'learning_rate_scheduling': 'AdaGrad'\n",
    "            }\n",
    "\n",
    "    trajectory, indexes = gradient_descent(w0, classifier, regularizer, opts)\n",
    "    \n",
    "    contour_plot = plt.subplot(121)\n",
    "    error_plot = plt.subplot(122)\n",
    "    \n",
    "    opt = {'marker': 'ro', 'fillstyle': 'full', 'label': '+ Train', 'size': 8}\n",
    "    plot_helpers.plot_data(X_train[np.where(Y_train == 1)[0], 0], X_train[np.where(Y_train == 1)[0], 1], fig=contour_plot, options=opt)\n",
    "    opt = {'marker': 'bs', 'fillstyle': 'full', 'label': '- Train', 'size': 8}\n",
    "    plot_helpers.plot_data(X_train[np.where(Y_train == -1)[0], 0], X_train[np.where(Y_train == -1)[0], 1], fig=contour_plot, options=opt)\n",
    "\n",
    "    opt = {'marker': 'ro', 'fillstyle': 'none', 'label': '+ Test', 'size': 8}\n",
    "    plot_helpers.plot_data(X_test[np.where(Y_test == 1)[0], 0], X_test[np.where(Y_test == 1)[0], 1], fig=contour_plot, options=opt)\n",
    "    opt = {'marker': 'bs', 'fillstyle': 'none', 'label': '- Test', 'size': 8}\n",
    "    plot_helpers.plot_data(X_test[np.where(Y_test == -1)[0], 0], X_test[np.where(Y_test == -1)[0], 1], fig=contour_plot, options=opt)\n",
    "\n",
    "    contour_opts = {'n_points': 100, 'x_label': '$x$', 'y_label': '$y$', 'sgd_point': True, 'n_classes': 4}\n",
    "    error_opts = {'epoch': 5, 'x_label': '$t$', 'y_label': 'error'}\n",
    "    \n",
    "    opts = {'contour_opts': contour_opts, 'error_opts': error_opts}\n",
    "    plot_helpers.classification_progression(X, Y, trajectory, indexes, classifier, \n",
    "                                            contour_plot=contour_plot, error_plot=error_plot, \n",
    "                                            options=opts)\n",
    "\n",
    "interact_manual(change_learning_params,\n",
    "                reg=ipywidgets.FloatSlider(value=-3,\n",
    "                                    min=-3,\n",
    "                                    max=3,\n",
    "                                    step=0.5,\n",
    "                                    readout_format='.1f',\n",
    "                                    description='Regularization 10^:',\n",
    "                                    style={'description_width': 'initial'},\n",
    "                                    continuous_update=False), \n",
    "                eta0=ipywidgets.FloatSlider(value=0.5,\n",
    "                                            min=1e-1,\n",
    "                                            max=2,\n",
    "                                            step=1 * 1e-1,\n",
    "                                            readout_format='.1f',\n",
    "                                            description='Learning rate:',\n",
    "                                            style={'description_width': 'initial'},\n",
    "                                            continuous_update=False),\n",
    "                n_iter=ipywidgets.IntSlider(value=100,\n",
    "                                            min=5,\n",
    "                                            max=50,\n",
    "                                            step=1,\n",
    "                                            description='Number of iterations:',\n",
    "                                            style={'description_width': 'initial'},\n",
    "                                            continuous_update=False),\n",
    "                batch_size=ipywidgets.IntSlider(value=1,\n",
    "                                            min=1,\n",
    "                                            max=X_train.shape[0],\n",
    "                                            step=1,\n",
    "                                            description='Batch Size:',\n",
    "                                            style={'description_width': 'initial'},\n",
    "                                            continuous_update=False)\n",
    "               );"
   ]
  },
  {
   "cell_type": "markdown",
   "metadata": {},
   "source": [
    "# Kernelized Classification\n",
    "\n",
    "Both perceptron and SVM can be kernelized, i.e. the output of the regressor can be passed through the sign function. \n",
    "\n",
    "$$ \\hat{y} = \\text{sign} \\left[ \\sum_{i=1}^N \\alpha_i y_i K(x_i, x) \\right] $$ and a perceptron loss applied to the difference between the predictor and the true value. \n",
    "\n",
    "The perceptron loss can be posed as:\n",
    "\n",
    "$$ L(\\alpha;x_j, y_j) = \\max \\left\\{0, -\\sum_{j=1}^N y_j \\alpha_i K(x_i, x_j) \\right\\} $$ \n",
    "\n",
    "The parameters are updated as follows: \n",
    "If $\\hat{y}(x) \\neq y(x)$, set $\\alpha \\gets \\alpha + \\eta_t$.  "
   ]
  },
  {
   "cell_type": "code",
   "execution_count": 28,
   "metadata": {},
   "outputs": [
    {
     "name": "stdout",
     "output_type": "stream",
     "text": [
      "The autoreload extension is already loaded. To reload it, use:\n",
      "  %reload_ext autoreload\n"
     ]
    }
   ],
   "source": [
    "# Code source: Sebastian Curi and Andreas Krause, based on Jaques Grobler (sklearn demos).\n",
    "# License: BSD 3 clause\n",
    "\n",
    "# We start importing some modules and running some magic commands\n",
    "% matplotlib inline\n",
    "% reload_ext autoreload\n",
    "% load_ext autoreload\n",
    "% autoreload 2\n",
    "\n",
    "# General math and plotting modules.\n",
    "import numpy as np\n",
    "import matplotlib.pyplot as plt\n",
    "\n",
    "# Project files.\n",
    "from util import gradient_descent, generate_linear_separable_data, generate_circular_separable_data\n",
    "import plot_helpers\n",
    "from kernels import LinearKernel, PolynomialKernel, LaplacianKernel, GaussianKernel, PeriodicKernel\n",
    "from kernels import SumKernel\n",
    "from regularizers import L2Regularizer\n",
    "from classifiers import kNN\n",
    "\n",
    "# Widget and formatting modules\n",
    "import ipywidgets\n",
    "from ipywidgets import interact, interactive, interact_manual\n",
    "import pylab\n",
    "# If in your browser the figures are not nicely vizualized, change the following line. \n",
    "pylab.rcParams['figure.figsize'] = (10, 5)\n",
    "\n",
    "# Machine Learning library. \n",
    "import sklearn\n",
    "from sklearn import svm\n",
    "from sklearn import datasets\n",
    "\n"
   ]
  },
  {
   "cell_type": "code",
   "execution_count": 29,
   "metadata": {},
   "outputs": [
    {
     "data": {
      "image/png": "[encoded data removed]",
      "text/plain": [
       "<matplotlib.figure.Figure at 0x11a56c588>"
      ]
     },
     "metadata": {},
     "output_type": "display_data"
    }
   ],
   "source": [
    "num_points = 100  # Number of points per class\n",
    "noise = 0.2  # Noise Level (needed for data generation).\n",
    "\n",
    "X, Y = generate_circular_separable_data(num_points, noise=noise, offset=1)\n",
    "fig = plt.subplot(111)\n",
    "opt = {'marker': 'r*', 'label': '+'}\n",
    "plot_helpers.plot_data(X[np.where(Y == 1)[0], 0], X[np.where(Y == 1)[0], 1], fig=fig, options=opt)\n",
    "opt = {'marker': 'bs', 'label': '-'}\n",
    "plot_helpers.plot_data(X[np.where(Y == -1)[0], 0], X[np.where(Y == -1)[0], 1], fig=fig, options=opt)\n",
    "fig.legend();\n",
    "\n"
   ]
  },
  {
   "cell_type": "code",
   "execution_count": null,
   "metadata": {},
   "outputs": [],
   "source": []
  }
 ],
 "metadata": {
  "anaconda-cloud": {},
  "kernelspec": {
   "display_name": "Python [default]",
   "language": "python",
   "name": "python3"
  },
  "language_info": {
   "codemirror_mode": {
    "name": "ipython",
    "version": 3
   },
   "file_extension": ".py",
   "mimetype": "text/x-python",
   "name": "python",
   "nbconvert_exporter": "python",
   "pygments_lexer": "ipython3",
   "version": "3.5.4"
  }
 },
 "nbformat": 4,
 "nbformat_minor": 2
}
