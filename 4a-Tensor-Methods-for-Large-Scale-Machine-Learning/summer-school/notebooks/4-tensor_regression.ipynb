{
 "cells": [
  {
   "cell_type": "markdown",
   "metadata": {},
   "source": [
    "# Low-rank Tensor Regression"
   ]
  },
  {
   "cell_type": "markdown",
   "metadata": {},
   "source": [
    "Tensor regression is available in the module `tensorly.regression`.\n",
    "\n",
    "Given a series of $N$ tensor samples/observations, $\\tilde X_i, i={1, \\cdots, N}$, and corresponding labels $y_i, i={1, \\cdots, N}$, we want to find the weight tensor $\\tilde W$ such that, for each $i={1, \\cdots, N}$:\n",
    "\n",
    "$$\n",
    "   y_i = \\langle \\tilde X_i, \\tilde W \\rangle\n",
    "$$\n",
    "\n",
    "We additionally impose that $\\tilde W$ be a rank-r CP decomposition (Kruskal regression) or a rank $(r_1, \\cdots, r_N)$-Tucker decomposition (Tucker regression).\n",
    "\n",
    "TensorLy implements both types of tensor regression as scikit-learn-like estimators.\n",
    "\n",
    "For instance, Krusal regression is available through the $tensorly.regression.KruskalRegression$ object. This implements a fit method that takes as parameters $X$, the data tensor which first dimension is the number of samples, and $y$, the corresponding vector of labels.\n",
    "\n",
    "Given a set of testing samples, you can use the predict method to obtain the corresponding predictions from the model.\n",
    "\n"
   ]
  },
  {
   "cell_type": "code",
   "execution_count": 1,
   "metadata": {},
   "outputs": [
    {
     "name": "stderr",
     "output_type": "stream",
     "text": [
      "Using numpy backend.\n"
     ]
    }
   ],
   "source": [
    "import matplotlib.pyplot as plt\n",
    "from tensorly.base import tensor_to_vec, partial_tensor_to_vec\n",
    "from tensorly.datasets.synthetic import gen_image\n",
    "from tensorly.random import check_random_state\n",
    "from tensorly.regression.kruskal_regression import KruskalRegressor\n",
    "import tensorly.backend as T\n",
    "\n",
    "#show figures in the notebook\n",
    "%matplotlib inline"
   ]
  },
  {
   "cell_type": "code",
   "execution_count": 2,
   "metadata": {},
   "outputs": [],
   "source": [
    "# Parameter of the experiment\n",
    "image_height = 25\n",
    "image_width = 25\n",
    "\n",
    "# fix the random seed for reproducibility\n",
    "rng = check_random_state(1) \n",
    "\n",
    "# Generate a random tensor\n",
    "X = T.tensor(rng.normal(size=(1000, image_height, image_width), loc=0, scale=1))"
   ]
  },
  {
   "cell_type": "markdown",
   "metadata": {},
   "source": [
    "Generate the original image"
   ]
  },
  {
   "cell_type": "code",
   "execution_count": 3,
   "metadata": {},
   "outputs": [],
   "source": [
    "weight_img = gen_image(region='swiss', image_height=image_height, image_width=image_width)\n",
    "weight_img = T.tensor(weight_img)"
   ]
  },
  {
   "cell_type": "markdown",
   "metadata": {},
   "source": [
    "The true labels is obtained by taking the product between the true regression weights and the input tensors"
   ]
  },
  {
   "cell_type": "code",
   "execution_count": 4,
   "metadata": {},
   "outputs": [],
   "source": [
    "y = T.dot(partial_tensor_to_vec(X, skip_begin=1), tensor_to_vec(weight_img))"
   ]
  },
  {
   "cell_type": "markdown",
   "metadata": {},
   "source": [
    "## Let's view the true regression weight "
   ]
  },
  {
   "cell_type": "code",
   "execution_count": 5,
   "metadata": {},
   "outputs": [
    {
     "data": {
      "text/plain": [
       "Text(0.5,1,'True regression weights')"
      ]
     },
     "execution_count": 5,
     "metadata": {},
     "output_type": "execute_result"
    },
    {
     "data": {
      "image/png": "[encoded data removed]",
      "text/plain": [
       "<Figure size 432x288 with 1 Axes>"
      ]
     },
     "metadata": {},
     "output_type": "display_data"
    }
   ],
   "source": [
    "fig = plt.figure()\n",
    "ax = fig.add_subplot(1, 1, 1)\n",
    "ax.imshow(T.to_numpy(weight_img), cmap=plt.cm.OrRd, interpolation='nearest')\n",
    "ax.set_axis_off()\n",
    "ax.set_title('True regression weights')"
   ]
  },
  {
   "cell_type": "markdown",
   "metadata": {},
   "source": [
    "## Tensor regression "
   ]
  },
  {
   "cell_type": "markdown",
   "metadata": {},
   "source": [
    "### Create a tensor Regressor estimator"
   ]
  },
  {
   "cell_type": "code",
   "execution_count": 35,
   "metadata": {},
   "outputs": [],
   "source": [
    "estimator = KruskalRegressor(weight_rank=2, tol=10e-7, n_iter_max=100, reg_W=1, verbose=0)"
   ]
  },
  {
   "cell_type": "markdown",
   "metadata": {},
   "source": [
    "### Fit the estimator to the data"
   ]
  },
  {
   "cell_type": "code",
   "execution_count": 36,
   "metadata": {},
   "outputs": [
    {
     "data": {
      "text/plain": [
       "<tensorly.regression.kruskal_regression.KruskalRegressor at 0x7f8bc2dbd630>"
      ]
     },
     "execution_count": 36,
     "metadata": {},
     "output_type": "execute_result"
    }
   ],
   "source": [
    "estimator.fit(X, y)"
   ]
  },
  {
   "cell_type": "markdown",
   "metadata": {},
   "source": [
    "### Predict the labels given input tensors"
   ]
  },
  {
   "cell_type": "code",
   "execution_count": 37,
   "metadata": {},
   "outputs": [],
   "source": [
    "y_pred = estimator.predict(X)"
   ]
  },
  {
   "cell_type": "markdown",
   "metadata": {},
   "source": [
    "Let's measure the RMSE"
   ]
  },
  {
   "cell_type": "code",
   "execution_count": 38,
   "metadata": {},
   "outputs": [],
   "source": [
    "from tensorly.metrics import RMSE"
   ]
  },
  {
   "cell_type": "code",
   "execution_count": 39,
   "metadata": {},
   "outputs": [
    {
     "data": {
      "text/plain": [
       "0.013131994103007942"
      ]
     },
     "execution_count": 39,
     "metadata": {},
     "output_type": "execute_result"
    }
   ],
   "source": [
    "RMSE(y, y_pred)"
   ]
  },
  {
   "cell_type": "markdown",
   "metadata": {},
   "source": [
    "### Visualise the learned weights"
   ]
  },
  {
   "cell_type": "code",
   "execution_count": 40,
   "metadata": {},
   "outputs": [
    {
     "data": {
      "text/plain": [
       "Text(0.5,1,'Learned regression weights')"
      ]
     },
     "execution_count": 40,
     "metadata": {},
     "output_type": "execute_result"
    },
    {
     "data": {
      "image/png": "[encoded data removed]",
      "text/plain": [
       "<Figure size 432x288 with 1 Axes>"
      ]
     },
     "metadata": {},
     "output_type": "display_data"
    }
   ],
   "source": [
    "fig = plt.figure()\n",
    "ax = fig.add_subplot(1, 1, 1)\n",
    "ax.imshow(T.to_numpy(estimator.weight_tensor_), cmap=plt.cm.OrRd, interpolation='nearest')\n",
    "ax.set_axis_off()\n",
    "ax.set_title('Learned regression weights')"
   ]
  },
  {
   "cell_type": "markdown",
   "metadata": {},
   "source": [
    "Wait! Weren't the learned weights supposed to be a low rank tensor in the Krusakl form!?\n",
    "\n",
    "They are! We simply plot the full tensor corresponding to the learned decomposition. You can access the decomposed form as follows:"
   ]
  },
  {
   "cell_type": "code",
   "execution_count": 41,
   "metadata": {},
   "outputs": [],
   "source": [
    "factors = estimator.kruskal_weight_"
   ]
  },
  {
   "cell_type": "code",
   "execution_count": null,
   "metadata": {},
   "outputs": [],
   "source": [
    "core, factors = estimator.turle"
   ]
  }
 ],
 "metadata": {
  "kernelspec": {
   "display_name": "Python 3",
   "language": "python",
   "name": "python3"
  },
  "language_info": {
   "codemirror_mode": {
    "name": "ipython",
    "version": 3
   },
   "file_extension": ".py",
   "mimetype": "text/x-python",
   "name": "python",
   "nbconvert_exporter": "python",
   "pygments_lexer": "ipython3",
   "version": "3.6.3"
  }
 },
 "nbformat": 4,
 "nbformat_minor": 2
}
