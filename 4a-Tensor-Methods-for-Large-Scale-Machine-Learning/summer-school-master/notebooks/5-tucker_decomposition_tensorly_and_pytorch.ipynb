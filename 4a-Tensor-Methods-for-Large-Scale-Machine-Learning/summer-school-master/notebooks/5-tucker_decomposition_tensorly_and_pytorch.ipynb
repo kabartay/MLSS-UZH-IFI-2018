{
 "cells": [
  {
   "cell_type": "code",
   "execution_count": 76,
   "metadata": {},
   "outputs": [],
   "source": [
    "import numpy as np\n",
    "\n",
    "# Import PyTorch\n",
    "import torch\n",
    "from torch.autograd import Variable\n",
    "\n",
    "# Import TensorLy\n",
    "import tensorly as tl\n",
    "from tensorly.tucker_tensor import tucker_to_tensor\n",
    "from tensorly.random import check_random_state"
   ]
  },
  {
   "cell_type": "code",
   "execution_count": 77,
   "metadata": {},
   "outputs": [
    {
     "name": "stderr",
     "output_type": "stream",
     "text": [
      "Using pytorch backend.\n"
     ]
    }
   ],
   "source": [
    "tl.set_backend('pytorch')"
   ]
  },
  {
   "cell_type": "markdown",
   "metadata": {},
   "source": [
    "Make the results reproducible by fixing the random seed"
   ]
  },
  {
   "cell_type": "code",
   "execution_count": 79,
   "metadata": {},
   "outputs": [],
   "source": [
    "random_state = 1234\n",
    "rng = check_random_state(random_state) # seed. To have results be reproduceble\n",
    "#device = 'cuda:8'\n",
    "device = 'cpu'\n",
    "\n",
    "## to just ajust cuda it gives assertion error\n",
    "## AssertionError: \n",
    "## Found no NVIDIA driver on your system. Please check that you\n",
    "## have an NVIDIA GPU and installed a driver from\n",
    "## http://www.nvidia.com/Download/index.aspx"
   ]
  },
  {
   "cell_type": "markdown",
   "metadata": {},
   "source": [
    "Define a random tensor which we will try to decompose. We wrap our tensors in Variables so we can backpropagate through them:\n",
    "\n"
   ]
  },
  {
   "cell_type": "code",
   "execution_count": 82,
   "metadata": {},
   "outputs": [],
   "source": [
    "shape = [5, 5, 5]\n",
    "tensor = tl.tensor(rng.random_sample(shape), device=device, requires_grad=True) \n",
    "# can put device as cuda or default device predefined above\n",
    "# like device = 'cuda:9'"
   ]
  },
  {
   "cell_type": "markdown",
   "metadata": {},
   "source": [
    "Initialise a random Tucker decomposition of that tensor\n",
    "\n"
   ]
  },
  {
   "cell_type": "code",
   "execution_count": 83,
   "metadata": {},
   "outputs": [],
   "source": [
    "ranks = [5, 5, 5]\n",
    "core = tl.tensor(rng.random_sample(ranks), device=device, requires_grad=True)\n",
    "factors = [tl.tensor(rng.random_sample((tensor.shape[i], ranks[i])),\n",
    "                 device=device, requires_grad=True) for i in range(tl.ndim(tensor))]\n"
   ]
  },
  {
   "cell_type": "markdown",
   "metadata": {},
   "source": [
    "Now we just iterate through the training loop and backpropagate...\n",
    "\n"
   ]
  },
  {
   "cell_type": "code",
   "execution_count": 100,
   "metadata": {},
   "outputs": [
    {
     "name": "stdout",
     "output_type": "stream",
     "text": [
      "Epoch 1000,. Rec. error: 5.259055251372047e-05\n",
      "Epoch 2000,. Rec. error: 3.748767267097719e-05\n",
      "Epoch 3000,. Rec. error: 8.297749445773661e-05\n",
      "Epoch 4000,. Rec. error: 4.813263876712881e-05\n",
      "Epoch 5000,. Rec. error: 6.548576493514702e-05\n",
      "Epoch 6000,. Rec. error: 6.925491470610723e-05\n",
      "Epoch 7000,. Rec. error: 4.323222310631536e-05\n",
      "Epoch 8000,. Rec. error: 7.227441528812051e-05\n",
      "Epoch 9000,. Rec. error: 6.138482422102243e-05\n",
      " \n",
      "[tensor(1.00000e-05 *\n",
      "       5.2591), tensor(1.00000e-05 *\n",
      "       3.7488), tensor(1.00000e-05 *\n",
      "       8.2977), tensor(1.00000e-05 *\n",
      "       4.8133), tensor(1.00000e-05 *\n",
      "       6.5486), tensor(1.00000e-05 *\n",
      "       6.9255), tensor(1.00000e-05 *\n",
      "       4.3232), tensor(1.00000e-05 *\n",
      "       7.2274), tensor(1.00000e-05 *\n",
      "       6.1385)]\n",
      "tensor(1.00000e-05 *\n",
      "       3.7488)\n"
     ]
    },
    {
     "data": {
      "image/png": "[encoded data removed]",
      "text/plain": [
       "<Figure size 960x640 with 1 Axes>"
      ]
     },
     "metadata": {},
     "output_type": "display_data"
    }
   ],
   "source": [
    "## MO\n",
    "import matplotlib.pyplot as plt\n",
    "%matplotlib inline\n",
    "## MO\n",
    "#fig = plt.figure()\n",
    "fig=plt.figure(figsize=(12, 8), dpi= 80, facecolor='w', edgecolor='k')\n",
    "ax = fig.add_subplot(1, 1, 1)\n",
    "## \n",
    "some_list = []\n",
    "\n",
    "\n",
    "##\n",
    "n_iter = 10000\n",
    "lr = 0.00005\n",
    "penalty = 0.1\n",
    "\n",
    "optimizer = torch.optim.Adam([core]+factors, lr=lr)\n",
    "# [core, factors(0), factors(1), ... ] # we can do optimization of the factors we want specially\n",
    "\n",
    "\n",
    "for i in range(1, n_iter):\n",
    "    # Important: do not forget to reset the gradients\n",
    "    optimizer.zero_grad()\n",
    "\n",
    "    # Reconstruct the tensor from the decomposed form\n",
    "    rec = tucker_to_tensor(core, factors)\n",
    "\n",
    "    # squared l2 loss\n",
    "    loss = tl.norm(rec - tensor, 2)\n",
    "\n",
    "    # squared l2 penalty on the factors of the decomposition\n",
    "    for f in factors:\n",
    "        loss = loss + penalty * f.pow(2).sum()\n",
    "\n",
    "    loss.backward() # back propagate and mesure reconstruction error\n",
    "    optimizer.step()\n",
    "\n",
    "    if i % 1000 == 0:\n",
    "        rec_error = tl.norm(rec.data - tensor.data, 2)/tl.norm(tensor.data, 2)\n",
    "        \n",
    "        print(\"Epoch {},. Rec. error: {}\".format(i, rec_error))\n",
    "        #print(type(rec_error)) ## <class 'torch.Tensor'>\n",
    "        #print(rec_error.data)\n",
    "        some_list.append(rec_error.data)\n",
    "        #plt.plot(i,rec_error.data) ## MO\n",
    "\n",
    "print(' ')\n",
    "print(some_list)\n",
    "\n",
    "print(some_list[1].data)\n",
    "\n",
    "#plt.plot(1000,some_list[1].data)\n",
    "#plt.plot(3000,some_list[3].data)\n",
    "#plt.plot(5000,some_list[5].data)\n",
    "\n",
    "plt.ylim(0.000001,0.0001)\n",
    "\n",
    "plt.scatter(1, some_list[1].data, s=150, c=\"black\", alpha=0.5)\n",
    "plt.scatter(2, some_list[2].data, s=150, c=\"green\", alpha=0.5)\n",
    "plt.scatter(3, some_list[3].data, s=150, c=\"blue\", alpha=0.5)\n",
    "plt.scatter(4, some_list[4].data, s=150, c=\"red\", alpha=0.5)\n",
    "plt.scatter(5, some_list[5].data, s=150, c=\"violet\", alpha=0.5)\n",
    "plt.scatter(6, some_list[6].data, s=150, c=\"yellow\", alpha=0.5)\n",
    "plt.scatter(7, some_list[7].data, s=150, c=\"orange\", alpha=0.5)\n",
    "plt.scatter(8, some_list[8].data, s=150, c=\"cyan\", alpha=0.5)\n",
    "plt.scatter(9, some_list[7].data, s=150, c=\"magenta\", alpha=0.5)\n",
    "\n",
    "\n",
    "\n",
    "plt.title('Rec. error VS epoch')\n",
    "plt.show()"
   ]
  },
  {
   "cell_type": "markdown",
   "metadata": {},
   "source": [
    "# Now a CP decomposition"
   ]
  },
  {
   "cell_type": "code",
   "execution_count": 110,
   "metadata": {},
   "outputs": [],
   "source": [
    "# Create random factors\n",
    "factors = [tl.tensor(rng.random_sample((s,5)),device=device,requires_grad=True)\\\n",
    "           for s in shape]"
   ]
  },
  {
   "cell_type": "code",
   "execution_count": 111,
   "metadata": {},
   "outputs": [
    {
     "data": {
      "text/plain": [
       "[torch.Size([5, 5]), torch.Size([5, 5]), torch.Size([5, 5])]"
      ]
     },
     "execution_count": 111,
     "metadata": {},
     "output_type": "execute_result"
    }
   ],
   "source": [
    "[f.shape for f in factors]\n"
   ]
  },
  {
   "cell_type": "code",
   "execution_count": 115,
   "metadata": {},
   "outputs": [],
   "source": [
    "## DEFINE in other way\n",
    "factors = []\n",
    "for s in shape:\n",
    "    factors.append(tl.tensor(rng.random_sample((s,5)),device=device,requires_grad=True))\n",
    "    \n"
   ]
  },
  {
   "cell_type": "code",
   "execution_count": 116,
   "metadata": {},
   "outputs": [
    {
     "data": {
      "text/plain": [
       "[torch.Size([5, 5]), torch.Size([5, 5]), torch.Size([5, 5])]"
      ]
     },
     "execution_count": 116,
     "metadata": {},
     "output_type": "execute_result"
    }
   ],
   "source": [
    "[f.shape for f in factors]"
   ]
  },
  {
   "cell_type": "code",
   "execution_count": 119,
   "metadata": {},
   "outputs": [
    {
     "name": "stdout",
     "output_type": "stream",
     "text": [
      "Epoch 1000,. Rec. error: 0.4924027621746063\n",
      "Epoch 2000,. Rec. error: 0.49444541335105896\n",
      "Epoch 3000,. Rec. error: 0.4952702820301056\n",
      "Epoch 4000,. Rec. error: 0.49557140469551086\n",
      "Epoch 5000,. Rec. error: 0.49567580223083496\n",
      "Epoch 6000,. Rec. error: 0.4957085847854614\n",
      "Epoch 7000,. Rec. error: 0.49571773409843445\n",
      "Epoch 8000,. Rec. error: 0.4957198202610016\n",
      "Epoch 9000,. Rec. error: 0.49572011828422546\n"
     ]
    }
   ],
   "source": [
    "# Optimize them\n",
    "\n",
    "##\n",
    "n_iter = 10000\n",
    "lr = 0.00005\n",
    "penalty = 0.1\n",
    "\n",
    "optimizer = torch.optim.Adam(factors, lr=lr)\n",
    "\n",
    "\n",
    "for i in range(1, n_iter):\n",
    "    # Important: do not forget to reset the gradients\n",
    "    optimizer.zero_grad()\n",
    "    \n",
    "    # Reconstruct the tensor from the decomposed form\n",
    "    rec = tl.kruskal_to_tensor(factors)\n",
    "\n",
    "    # squared l2 loss\n",
    "    loss = tl.norm(rec - tensor, 2)\n",
    "\n",
    "    # squared l2 penalty on the factors of the decomposition\n",
    "    for f in factors:\n",
    "        loss = loss + penalty * f.pow(2).sum()\n",
    "\n",
    "    loss.backward() # back propagate and mesure reconstruction error\n",
    "    optimizer.step()\n",
    "\n",
    "    if i % 1000 == 0:\n",
    "        rec_error = tl.norm(rec.data - tensor.data, 2)/tl.norm(tensor.data, 2)\n",
    "        \n",
    "        print(\"Epoch {},. Rec. error: {}\".format(i, rec_error))\n"
   ]
  },
  {
   "cell_type": "code",
   "execution_count": null,
   "metadata": {},
   "outputs": [],
   "source": []
  },
  {
   "cell_type": "code",
   "execution_count": null,
   "metadata": {},
   "outputs": [],
   "source": []
  },
  {
   "cell_type": "code",
   "execution_count": null,
   "metadata": {},
   "outputs": [],
   "source": []
  },
  {
   "cell_type": "code",
   "execution_count": null,
   "metadata": {},
   "outputs": [],
   "source": []
  }
 ],
 "metadata": {
  "kernelspec": {
   "display_name": "Python 3",
   "language": "python",
   "name": "python3"
  },
  "language_info": {
   "codemirror_mode": {
    "name": "ipython",
    "version": 3
   },
   "file_extension": ".py",
   "mimetype": "text/x-python",
   "name": "python",
   "nbconvert_exporter": "python",
   "pygments_lexer": "ipython3",
   "version": "3.6.3"
  }
 },
 "nbformat": 4,
 "nbformat_minor": 2
}
